{
 "cells": [
  {
   "cell_type": "code",
   "execution_count": null,
   "metadata": {},
   "outputs": [],
   "source": [
    "import requests\n",
    "import pandas as pd\n",
    "from dateutil import parser\n",
    "\n",
    "\n",
    "df = pd.read_csv('df_All_Coordinates.csv')\n",
    "\n",
    "def parse_coordinates(coord):\n",
    "    try:\n",
    "        coord = eval(coord)  # Convert string to tuple\n",
    "        if isinstance(coord, (list, tuple)) and len(coord) == 2:\n",
    "            return coord[0], coord[1]\n",
    "    except:\n",
    "        return None, None"
   ]
  },
  {
   "cell_type": "code",
   "execution_count": null,
   "metadata": {},
   "outputs": [],
   "source": [
    "df[\"latitude\"], df[\"longitude\"] = zip(*df[\"tweet_coord\"].apply(parse_coordinates))\n",
    "\n",
    "\n",
    "df[\"latitude\"] = df[\"latitude\"].round(2)\n",
    "df[\"longitude\"] = df[\"longitude\"].round(2)\n",
    "\n",
    "\n",
    "df[\"tweet_created\"] = df[\"tweet_created\"].apply(lambda x: parser.parse(x[:-6]))  # Remove timezone offset\n",
    "df[\"date\"] = df[\"tweet_created\"].dt.strftime(\"%Y-%m-%d\")\n",
    "\n",
    "\n",
    "weather_cache = {}"
   ]
  },
  {
   "cell_type": "code",
   "execution_count": null,
   "metadata": {},
   "outputs": [],
   "source": [
    "\n",
    "def get_weather_open_meteo(lat, lon, date):\n",
    "    \"\"\"Fetches historical weather for a given location & date using Open-Meteo API\"\"\"\n",
    "\n",
    "    if pd.isna(lat) or pd.isna(lon):\n",
    "        return None, None, None, None, None\n",
    "\n",
    "    cache_key = (lat, lon, date) \n",
    "\n",
    "    if cache_key in weather_cache:\n",
    "        return weather_cache[cache_key]  \n",
    "\n",
    "    url = f\"https://archive-api.open-meteo.com/v1/archive?latitude={lat}&longitude={lon}&start_date={date}&end_date={date}&hourly=temperature_2m,relativehumidity_2m,precipitation,windspeed_10m,snowfall\"\n",
    "\n",
    "    try:\n",
    "        response = requests.get(url).json()\n",
    "        if \"hourly\" in response:\n",
    "            # Extract the first hour's data (since we're querying for a single day)\n",
    "            temp = response[\"hourly\"][\"temperature_2m\"][0]\n",
    "            humidity = response[\"hourly\"][\"relativehumidity_2m\"][0]\n",
    "            precipitation = response[\"hourly\"][\"precipitation\"][0]\n",
    "            wind_speed = response[\"hourly\"][\"windspeed_10m\"][0]\n",
    "            snowfall = response[\"hourly\"][\"snowfall\"][0]\n",
    "\n",
    "            # Store in cache\n",
    "            weather_cache[cache_key] = (temp, humidity, precipitation, wind_speed, snowfall)\n",
    "            return temp, humidity, precipitation, wind_speed, snowfall\n",
    "    except Exception as e:\n",
    "        print(f\"Error fetching data for {lat}, {lon} on {date}: {e}\")\n",
    "        return None, None, None, None, None\n",
    "\n",
    "    return None, None, None, None, None"
   ]
  },
  {
   "cell_type": "code",
   "execution_count": null,
   "metadata": {},
   "outputs": [],
   "source": [
    "\n",
    "weather_data = df.apply(\n",
    "    lambda row: get_weather_open_meteo(row[\"latitude\"], row[\"longitude\"], row[\"date\"]), axis=1\n",
    ")"
   ]
  },
  {
   "cell_type": "code",
   "execution_count": null,
   "metadata": {},
   "outputs": [],
   "source": [
    "weather_df = pd.DataFrame(weather_data.tolist(), columns=[\"temperature\", \"humidity\", \"precipitation\", \"wind_speed\", \"snowfall\"])\n",
    "\n",
    "\n",
    "df = df.join(weather_df)  \n"
   ]
  },
  {
   "cell_type": "code",
   "execution_count": 6,
   "metadata": {},
   "outputs": [],
   "source": [
    "df.to_csv('example.csv', index=False)"
   ]
  },
  {
   "cell_type": "code",
   "execution_count": null,
   "metadata": {},
   "outputs": [],
   "source": []
  }
 ],
 "metadata": {
  "kernelspec": {
   "display_name": "base",
   "language": "python",
   "name": "python3"
  },
  "language_info": {
   "codemirror_mode": {
    "name": "ipython",
    "version": 3
   },
   "file_extension": ".py",
   "mimetype": "text/x-python",
   "name": "python",
   "nbconvert_exporter": "python",
   "pygments_lexer": "ipython3",
   "version": "3.12.7"
  }
 },
 "nbformat": 4,
 "nbformat_minor": 2
}
